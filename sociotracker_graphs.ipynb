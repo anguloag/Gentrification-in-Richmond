{
 "cells": [
  {
   "cell_type": "code",
   "execution_count": null,
   "id": "36f3b5f1",
   "metadata": {},
   "outputs": [],
   "source": [
    "# Dependencies and Setup\n",
    "import matplotlib.pyplot as plt\n",
    "import pandas as pd\n",
    "import scipy.stats as st\n",
    "import numpy as np\n",
    "from scipy.stats import sem\n",
    "from scipy.stats import linregress\n",
    "\n",
    "# Study data files\n",
    "file_var = '../Resources/FILE.csv'\n",
    "\n",
    "# Read the data\n",
    "file_data = pd.read_csv(file_var)\n",
    "\n",
    "# Combine the data into a single dataset ?????\n",
    "combined_data = pd.merge(x_data, y_data, how='left', on=['COLUMN NAME'])\n",
    "\n",
    "# Display the data table for preview\n",
    "combined_data.head()\n",
    "\n"
   ]
  },
  {
   "cell_type": "markdown",
   "id": "fae98667",
   "metadata": {},
   "source": [
    "## Comparative Bar Graphs for Crime and Housing Value?"
   ]
  },
  {
   "cell_type": "code",
   "execution_count": null,
   "id": "0cee0924",
   "metadata": {},
   "outputs": [],
   "source": [
    "# can make stacked bar graph (type of crime as segments) for each neighborhood? \n",
    "### using data at 2000 and 2020?\n",
    "\n"
   ]
  },
  {
   "cell_type": "markdown",
   "id": "51598f85",
   "metadata": {},
   "source": [
    "## Scatter with Regression Analysis -- All RVA Housing Value vs All RVA Crime "
   ]
  },
  {
   "cell_type": "code",
   "execution_count": null,
   "id": "bf220fc9",
   "metadata": {},
   "outputs": [],
   "source": [
    "# done with data for ONE year \n",
    "# x-axis = Housing Value; y-axis = Total Crime; each dot is a neighborhood \n",
    "\n"
   ]
  },
  {
   "cell_type": "markdown",
   "id": "ce89f5f9",
   "metadata": {},
   "source": [
    "## Comparative Line Graphs -- Crime over Time and Housing Value over Time (All RVA vs Selected Neighborhoods)"
   ]
  },
  {
   "cell_type": "code",
   "execution_count": null,
   "id": "156b2d8d",
   "metadata": {},
   "outputs": [],
   "source": [
    "# Need to make a line graph for RVA overall and for each neighborhood based on percent yearly change\n",
    "### make comparison of Housing Value with one line for All RVA and one line for each selected neighborhood\n",
    "### repeat for total crime\n",
    "### when using percent change, the points to plot would be (%change time A + %change time B) \n",
    "\n"
   ]
  },
  {
   "cell_type": "code",
   "execution_count": null,
   "id": "69cb9ec7",
   "metadata": {},
   "outputs": [],
   "source": [
    "# Make graph with Housing Value (all RVA) and Total Crime (all RVA) over time\n",
    "### repeat for each neighborhood \n",
    "### would look like the line graph the prof sent over slack (2 y-axes, 1 x-axis)\n"
   ]
  },
  {
   "cell_type": "markdown",
   "id": "6fd1ea12",
   "metadata": {},
   "source": [
    "## Box and Whisker Plots -- Distribution of Housing Values and Total for All RVA Neighborhoods (2000 and 2020)"
   ]
  },
  {
   "cell_type": "code",
   "execution_count": null,
   "id": "6aef0039",
   "metadata": {},
   "outputs": [],
   "source": [
    "# Using each neighborhood as a data point...\n",
    "### Make separate box and whisker plots for Housing Value at 2000 and 2020\n",
    "### Make separate box and whisker plots for Total Crime at 2000 and 2020\n",
    "### Locate where the selected neighborhoods fall in all 4 B&W plots \n",
    "### --> did percentile position change?\n",
    "\n"
   ]
  },
  {
   "cell_type": "markdown",
   "id": "9a0d2613",
   "metadata": {},
   "source": [
    "## Test of Significant Difference from Average (All RVA)"
   ]
  },
  {
   "cell_type": "code",
   "execution_count": null,
   "id": "0857e581",
   "metadata": {},
   "outputs": [],
   "source": [
    "# Compare overall percent change (from 2000-2020) for each selected neighborhood compared to control of All RVA\n",
    "### chi-square??\n",
    "\n"
   ]
  }
 ],
 "metadata": {
  "kernelspec": {
   "display_name": "Python 3",
   "language": "python",
   "name": "python3"
  },
  "language_info": {
   "codemirror_mode": {
    "name": "ipython",
    "version": 3
   },
   "file_extension": ".py",
   "mimetype": "text/x-python",
   "name": "python",
   "nbconvert_exporter": "python",
   "pygments_lexer": "ipython3",
   "version": "3.8.8"
  }
 },
 "nbformat": 4,
 "nbformat_minor": 5
}
