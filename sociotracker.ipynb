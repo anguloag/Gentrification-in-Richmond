{
 "cells": [
  {
   "cell_type": "code",
   "execution_count": null,
   "id": "799bce18",
   "metadata": {},
   "outputs": [],
   "source": [
    "# Dependencies\n",
    "import numpy as np\n",
    "import pandas as pd\n",
    "import matplotlib.pyplot as plt\n",
    "from scipy import stats\n",
    "import requests\n",
    "from census import Census\n",
    "from pprint import pprint\n",
    "\n",
    "# Census API Key\n",
    "from config import api_key"
   ]
  },
  {
   "cell_type": "code",
   "execution_count": null,
   "id": "a07007ed",
   "metadata": {},
   "outputs": [],
   "source": [
    "# Pull in all crime data from 2000 - 2020\n",
    "crime_2000 = pd.read_csv(\"Resources/Crime Information 2000\")\n",
    "crime_2001 = pd.read_csv(\"Resources/Crime Information 2001\")\n",
    "crime_2002 = pd.read_csv(\"Resources/Crime Information 2002\")\n",
    "crime_2003 = pd.read_csv(\"Resources/Crime Information 2003\")\n",
    "crime_2004 = pd.read_csv(\"Resources/Crime Information 2004\")\n",
    "crime_2005 = pd.read_csv(\"Resources/Crime Information 2005\")\n",
    "crime_2006 = pd.read_csv(\"Resources/Crime Information 2006\")\n",
    "crime_2007 = pd.read_csv(\"Resources/Crime Information 2007\")\n",
    "crime_2008 = pd.read_csv(\"Resources/Crime Information 2008\")\n",
    "crime_2009 = pd.read_csv(\"Resources/Crime Information 2009\")\n",
    "crime_2010 = pd.read_csv(\"Resources/Crime Information 2010\")\n",
    "crime_2011 = pd.read_csv(\"Resources/Crime Information 2011\")\n",
    "crime_2012 = pd.read_csv(\"Resources/Crime Information 2012\")\n",
    "crime_2013 = pd.read_csv(\"Resources/Crime Information 2013\")\n",
    "crime_2014 = pd.read_csv(\"Resources/Crime Information 2014\")\n",
    "crime_2015 = pd.read_csv(\"Resources/Crime Information 2015\")\n",
    "crime_2016 = pd.read_csv(\"Resources/Crime Information 2016\")\n",
    "crime_2017 = pd.read_csv(\"Resources/Crime Information 2017\")\n",
    "crime_2018 = pd.read_csv(\"Resources/Crime Information 2018\")\n",
    "crime_2019 = pd.read_csv(\"Resources/Crime Information 2019\")\n",
    "crime_2020 = pd.read_csv(\"Resources/Crime Information 2020\")"
   ]
  },
  {
   "cell_type": "code",
   "execution_count": null,
   "id": "9155511a",
   "metadata": {},
   "outputs": [],
   "source": [
    "# Function to create a single DataFrame from crime data based on Neighborhood\n",
    "def crime_data(neighborhood):\n",
    "    "
   ]
  },
  {
   "cell_type": "code",
   "execution_count": null,
   "id": "97f8ff4a",
   "metadata": {},
   "outputs": [],
   "source": [
    "# Call function to create a crime data DataFrame for a location\n",
    "crime_df = pd.dataframe()\n",
    "crime_df = crime_data(\"CHURCH HILL\") "
   ]
  },
  {
   "cell_type": "code",
   "execution_count": null,
   "id": "2c3c3f5e",
   "metadata": {},
   "outputs": [],
   "source": [
    "# Census Call\n",
    "#c = Census(api_key, year=2013)"
   ]
  }
 ],
 "metadata": {
  "kernelspec": {
   "display_name": "Python 3",
   "language": "python",
   "name": "python3"
  },
  "language_info": {
   "codemirror_mode": {
    "name": "ipython",
    "version": 3
   },
   "file_extension": ".py",
   "mimetype": "text/x-python",
   "name": "python",
   "nbconvert_exporter": "python",
   "pygments_lexer": "ipython3",
   "version": "3.8.8"
  }
 },
 "nbformat": 4,
 "nbformat_minor": 5
}
